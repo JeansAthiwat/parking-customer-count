{
 "cells": [
  {
   "cell_type": "markdown",
   "metadata": {},
   "source": [
    "## Visualize cross\n",
    "\n",
    "- distribution of detection"
   ]
  },
  {
   "cell_type": "code",
   "execution_count": null,
   "metadata": {},
   "outputs": [],
   "source": [
    "\n",
    "import sys\n",
    "\n",
    "sys.path.append(\"/home/jeans/internship/parking-customer-count\")\n",
    "\n",
    "from countpassenger.Config import conf\n",
    "from countpassenger import Preprocess\n",
    "\n",
    "import countpassenger\n",
    "import pandas as pd\n",
    "import os.path as osp\n",
    "import os\n",
    "\n",
    "\n",
    "df_cross = pd.read_csv(\n",
    "    osp.join(conf.RESOURCES_RAW_DIR, \"2024-04-28/mbk-tourist-raw-cross-object-20240428.csv\")\n",
    ")\n",
    "\n",
    "df_reverse = pd.read_csv(\n",
    "    osp.join(conf.RESOURCES_RAW_DIR, \"2024-04-28/mbk-tourist-raw-reverse-object-20240428.csv\")\n",
    ")"
   ]
  },
  {
   "cell_type": "code",
   "execution_count": null,
   "metadata": {},
   "outputs": [],
   "source": [
    "df_cross = Preprocess.df_clean_customer(df_customer=df_cross)\n",
    "print(df_cross.sort_values(by=conf.CUSTOMER_INTEREST_SNAPSHOT)[conf.CUSTOMER_INTEREST_SNAPSHOT].to_string())\n",
    "#mbk-14-14-vehicle-snapshot 2024-04-29 09:44:22.571   292  1030     0  1149   37.511000          NaN                      NaN          van                 0.996053"
   ]
  },
  {
   "cell_type": "code",
   "execution_count": null,
   "metadata": {},
   "outputs": [],
   "source": [
    "df_reverse = Preprocess.df_clean_customer(df_customer=df_reverse)\n",
    "print(df_reverse.sort_values(by=conf.CUSTOMER_INTEREST_SNAPSHOT)[conf.CUSTOMER_INTEREST_SNAPSHOT].to_string())\n",
    "#mbk-14-14-ve"
   ]
  },
  {
   "cell_type": "code",
   "execution_count": null,
   "metadata": {},
   "outputs": [],
   "source": [
    "df_samecam = df_cross[df_cross['camera'] == 'mbk-14-13']\n",
    "import matplotlib.pyplot as plt\n",
    "\n",
    "# df_samecam['timestamp_precise'] = pd.to_datetime(df_samecam['timestamp_precise'])\n",
    "\n",
    "plt.figure(figsize=(10, 6))  # Set the figure size to 10 inches wide and 6 inches tall\n",
    "plt.hist(df_samecam[:40]['timestamp_unix'], bins=100)\n",
    "plt.xlabel('Timestamp')\n",
    "plt.ylabel('Frequency')\n",
    "plt.title('Histogram of Timestamps')\n",
    "plt.show()"
   ]
  },
  {
   "cell_type": "code",
   "execution_count": null,
   "metadata": {},
   "outputs": [],
   "source": [
    "import matplotlib.pyplot as plt\n",
    "from mpl_toolkits.mplot3d import Axes3D\n",
    "df_cross = df_cross[df_cross['camera'] == 'mbk-14-13']\n",
    "\n",
    "df_cross['timestamp_precise'] = pd.to_datetime(df_cross['timestamp_precise'])\n",
    "\n",
    "fig = plt.figure(figsize=(20, 100))\n",
    "ax = fig.add_subplot(111, projection='3d')\n",
    "\n",
    "ax.scatter(df_cross['xmax'], df_cross['ymax'], df_cross['timestamp_unix'])\n",
    "ax.set_xlabel('xmax')\n",
    "ax.set_ylabel('ymax')\n",
    "ax.set_zlabel('Timestamp')\n",
    "ax.set_title('3D Scatter Plot of Index vs Timestamp')\n",
    "\n",
    "# Set the aspect ratio of the axes\n",
    "ax.set_box_aspect((1, 1, 5))  # Set the aspect ratio to 1, 1, 5\n",
    "plt.show()"
   ]
  },
  {
   "cell_type": "code",
   "execution_count": null,
   "metadata": {},
   "outputs": [],
   "source": [
    "import matplotlib.pyplot as plt\n",
    "import seaborn as sns\n",
    "import numpy as np\n",
    "\n",
    "# Create a 2D grid of x and y values\n",
    "x = df_cross['xmax']\n",
    "y = df_cross['ymax']\n",
    "\n",
    "# Create a 2D histogram of the data\n",
    "hist, xedges, yedges = np.histogram2d(x, y, bins=100)\n",
    "\n",
    "# Create a 2D heatmap of the data\n",
    "plt.figure(figsize=(10, 10))\n",
    "sns.heatmap(hist, cmap='viridis')\n",
    "plt.xlabel('xmax')\n",
    "plt.ylabel('ymax')\n",
    "plt.title('2D Heatmap of xmax vs ymax')\n",
    "plt.show()"
   ]
  }
 ],
 "metadata": {
  "kernelspec": {
   "display_name": "ml_env",
   "language": "python",
   "name": "python3"
  },
  "language_info": {
   "codemirror_mode": {
    "name": "ipython",
    "version": 3
   },
   "file_extension": ".py",
   "mimetype": "text/x-python",
   "name": "python",
   "nbconvert_exporter": "python",
   "pygments_lexer": "ipython3",
   "version": "3.12.2"
  }
 },
 "nbformat": 4,
 "nbformat_minor": 2
}
