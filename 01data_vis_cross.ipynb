{
 "cells": [
  {
   "cell_type": "markdown",
   "metadata": {},
   "source": [
    "## Visualize cross\n",
    "\n",
    "- distribution of detection"
   ]
  },
  {
   "cell_type": "code",
   "execution_count": null,
   "metadata": {},
   "outputs": [],
   "source": [
    "import sys\n",
    "\n",
    "sys.path.append(\"/home/jeans/internship/parking-customer-count\")\n",
    "\n",
    "from countpassenger.Config import conf\n",
    "from countpassenger import Preprocess\n",
    "\n",
    "import countpassenger\n",
    "import pandas as pd\n",
    "import os.path as osp\n",
    "import os\n",
    "\n",
    "df_cross = pd.read_csv(\n",
    "    osp.join(conf.RESOURCES_RAW_DIR, \"mbk-tourist-raw-cross-object-20240429.csv\")\n",
    ")"
   ]
  }
 ],
 "metadata": {
  "language_info": {
   "name": "python"
  }
 },
 "nbformat": 4,
 "nbformat_minor": 2
}
