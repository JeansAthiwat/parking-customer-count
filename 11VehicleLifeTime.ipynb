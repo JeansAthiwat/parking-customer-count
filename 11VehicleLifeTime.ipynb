{
 "cells": [
  {
   "cell_type": "markdown",
   "metadata": {},
   "source": [
    "### Exp: 1 working with Non-snapshot\n",
    "\n",
    "Assumption: every same vehicle in the same parking timespan have a customer that belongs to that car\n",
    "\n",
    "Vehicle : check , same type, same cam , timestamp in the lifespan +- grace windows (padding periods) x,y is near each other ~~appear at least 2 timeframe~~ on the same x,y on non-snapshot cam\n",
    "\n",
    "OUTPUT : vehicle_index : {timestamp range, x, y, vehicle type, }\n",
    "\n",
    "camera used : mbk-14-12-vehicle "
   ]
  },
  {
   "cell_type": "code",
   "execution_count": 1,
   "metadata": {},
   "outputs": [],
   "source": [
    "import sys\n",
    "\n",
    "sys.path.append(\"/home/jeans/internship/parking-customer-count\")\n",
    "\n",
    "from countpassenger.Config import conf\n",
    "from countpassenger import Preprocess\n",
    "from countpassenger.Approch1 import match_cross_to_vehicle, match_reverse_to_vehicle\n",
    "from countpassenger import Dataset\n",
    "\n",
    "import countpassenger\n",
    "import pandas as pd\n",
    "import numpy as np\n",
    "\n",
    "import os.path as osp\n",
    "import os\n",
    "\n",
    "CURRENT_CAM = \"mbk-14-14\"\n",
    "SAVE_DIR = os.path.join(\n",
    "    conf.RESOURCES_PROCESSED_DIR, f\"2024-04-28/count-passengers-{CURRENT_CAM}-vehicle.csv\"\n",
    ")\n",
    "load_param = dict(\n",
    "    vehicle_path_rel=\"2024-04-28/mbk-tourist-vehicle-object-20240428.csv\",\n",
    "    cross_path_rel=\"2024-04-28/mbk-tourist-raw-cross-object-20240428.csv\",\n",
    "    reverse_path_rel=\"2024-04-28/mbk-tourist-raw-reverse-object-20240428.csv\",\n",
    ")"
   ]
  },
  {
   "cell_type": "code",
   "execution_count": 2,
   "metadata": {},
   "outputs": [],
   "source": [
    "df_vehicle, df_cross, df_reverse = Dataset.load_dataset_from_paths(**load_param)\n",
    "\n",
    "# print(df_vehicle[[*conf.VEHICLE_INTEREST_NON_SNAPSHOT]].to_string())\n",
    "df_vehicle = Preprocess.df_clean_vehicle(\n",
    "    df_vehicle=df_vehicle,\n",
    ")\n",
    "df_vehicle = Preprocess.filter_camera(df_vehicle, camera_name=CURRENT_CAM + \"-vehicle\")\n",
    "df_vehicle = Preprocess.sort_df(df_vehicle, conf.VEHICLE_INTEREST_NON_SNAPSHOT)\n",
    "\n",
    "# print(df_vehicle[[*conf.VEHICLE_INTEREST_NON_SNAPSHOT,'timestamp_unix','timestamp_unix_end']].to_string())"
   ]
  },
  {
   "cell_type": "markdown",
   "metadata": {},
   "source": [
    "## Cross/Reverse"
   ]
  },
  {
   "cell_type": "code",
   "execution_count": 3,
   "metadata": {},
   "outputs": [],
   "source": [
    "df_cross = Preprocess.df_clean_customer(df_cross)\n",
    "df_cross = Preprocess.filter_camera(df_cross, camera_name=CURRENT_CAM)\n",
    "df_cross = Preprocess.sort_df(df_cross, conf.CUSTOMER_INTEREST_SNAPSHOT)\n",
    "\n",
    "# print(df_cross[[*conf.CUSTOMER_INTEREST_SNAPSHOT, \"timestamp_unix\"]].to_string())"
   ]
  },
  {
   "cell_type": "code",
   "execution_count": 4,
   "metadata": {},
   "outputs": [],
   "source": [
    "df_reverse = Preprocess.df_clean_customer(df_reverse)\n",
    "df_reverse = Preprocess.filter_camera(df_reverse, camera_name=CURRENT_CAM)\n",
    "df_reverse = Preprocess.sort_df(df_reverse, conf.CUSTOMER_INTEREST_SNAPSHOT)\n",
    "\n",
    "# print(df_reverse[[*conf.CUSTOMER_INTEREST_SNAPSHOT, \"timestamp_unix\"]].to_string())"
   ]
  },
  {
   "cell_type": "markdown",
   "metadata": {},
   "source": [
    "## TOGETHER\n"
   ]
  },
  {
   "cell_type": "code",
   "execution_count": 7,
   "metadata": {},
   "outputs": [
    {
     "name": "stdout",
     "output_type": "stream",
     "text": [
      "      is_plate_valid  travel_distance  vehicle_type_confidence  lifetime  \\\n",
      "2328           False      1241.330036                 0.959638     1.760   \n",
      "2319            True      1232.335681                 0.672324     2.999   \n",
      "2320            True      1224.568804                 0.686204     1.640   \n",
      "2321            True      1357.941952                 0.389375     4.479   \n",
      "2189            True      2733.894467                 0.594424    97.092   \n",
      "...              ...              ...                      ...       ...   \n",
      "64             False      1210.871857                 0.920888     1.759   \n",
      "61             False      1267.847536                 0.731769     1.760   \n",
      "59              True      1205.600697                 0.896717     1.279   \n",
      "31              True      1300.709908                 0.298450     4.119   \n",
      "24             False      1242.783670                 0.377606     2.120   \n",
      "\n",
      "      ymin plate_number  xmin  province_confidence similarized_plate_number  \\\n",
      "2328     2          NaN   642                  NaN                      NaN   \n",
      "2319     0       ฌก5115   670             0.631116                   ณก5115   \n",
      "2320     0        บ2425   670             0.806497                    บ2425   \n",
      "2321     0      1ขท6374   991             0.999550                  1ขท6374   \n",
      "2189     0       บ11738  1215             0.173986                   บ11738   \n",
      "...    ...          ...   ...                  ...                      ...   \n",
      "64       0          NaN   606                  NaN                      NaN   \n",
      "61       0          NaN   677                  NaN                      NaN   \n",
      "59       0       3ก9917   899             0.938968                   3ก9917   \n",
      "31       2       4ธ2275   698             0.998793                   4ธ2275   \n",
      "24       2          NaN   550                  NaN                      NaN   \n",
      "\n",
      "      plate_number_confidence  ...  plate_color plate_image_name  \\\n",
      "2328                      NaN  ...          NaN              NaN   \n",
      "2319                 0.518127  ...        white              NaN   \n",
      "2320                 0.494010  ...        white              NaN   \n",
      "2321                 0.847047  ...        white              NaN   \n",
      "2189                 0.950882  ...       yellow              NaN   \n",
      "...                       ...  ...          ...              ...   \n",
      "64                        NaN  ...          NaN              NaN   \n",
      "61                        NaN  ...          NaN              NaN   \n",
      "59                   0.443829  ...       yellow              NaN   \n",
      "31                   0.300857  ...        white              NaN   \n",
      "24                        NaN  ...          NaN              NaN   \n",
      "\n",
      "           timestamp_precise           true_video_name  \\\n",
      "2328 2024-04-28 02:14:56.802  mbk-14-14_1714270201.mp4   \n",
      "2319 2024-04-28 02:19:53.641  mbk-14-14_1714270501.mp4   \n",
      "2320 2024-04-28 02:24:14.814  mbk-14-14_1714270801.mp4   \n",
      "2321 2024-04-28 02:24:34.689  mbk-14-14_1714270801.mp4   \n",
      "2189 2024-04-28 03:37:26.964  mbk-14-14_1714275301.mp4   \n",
      "...                      ...                       ...   \n",
      "64   2024-04-28 15:57:35.801  mbk-14-14_1714319701.mp4   \n",
      "61   2024-04-28 16:03:18.069  mbk-14-14_1714320001.mp4   \n",
      "59   2024-04-28 16:08:15.951  mbk-14-14_1714320301.mp4   \n",
      "31   2024-04-28 16:26:30.979  mbk-14-14_1714321501.mp4   \n",
      "24   2024-04-28 16:30:58.749  mbk-14-14_1714321801.mp4   \n",
      "\n",
      "                            video_name    xmid   ymid timestamp_unix  \\\n",
      "2328  mbk-14-14-vehicle_1714270501.mp4  1088.0  157.5     1714270496   \n",
      "2319  mbk-14-14-vehicle_1714270801.mp4  1138.5  152.0     1714270793   \n",
      "2320  mbk-14-14-vehicle_1714270801.mp4  1115.0  162.5     1714271054   \n",
      "2321  mbk-14-14-vehicle_1714270801.mp4  1420.5  106.5     1714271074   \n",
      "2189  mbk-14-14-vehicle_1714275301.mp4  1498.5  148.5     1714275446   \n",
      "...                                ...     ...    ...            ...   \n",
      "64    mbk-14-14-vehicle_1714319701.mp4  1052.5  170.5     1714319855   \n",
      "61    mbk-14-14-vehicle_1714320001.mp4  1110.0  162.5     1714320198   \n",
      "59    mbk-14-14-vehicle_1714320301.mp4  1308.0  132.0     1714320495   \n",
      "31    mbk-14-14-vehicle_1714321501.mp4  1158.0  145.0     1714321590   \n",
      "24    mbk-14-14-vehicle_1714321801.mp4  1043.0  160.0     1714321858   \n",
      "\n",
      "      timestamp_unix_end  reverse_count  \n",
      "2328          1714270497              0  \n",
      "2319          1714270795              0  \n",
      "2320          1714271055              0  \n",
      "2321          1714271078              0  \n",
      "2189          1714275543              0  \n",
      "...                  ...            ...  \n",
      "64            1714319856              0  \n",
      "61            1714320199              0  \n",
      "59            1714320496              1  \n",
      "31            1714321594              0  \n",
      "24            1714321860              0  \n",
      "\n",
      "[146 rows x 35 columns]\n"
     ]
    }
   ],
   "source": [
    "df_reverse_with_reverse_count = match_reverse_to_vehicle(df_reverse, df_vehicle)\n",
    "df_vehicle_with_cross_and_reverse = match_cross_to_vehicle(\n",
    "    df_cross,\n",
    "    df_reverse_with_reverse_count,\n",
    ")\n",
    "\n",
    "# df_vehicle = df_vehicle[\n",
    "#     (df_vehicle[\"timestamp_unix\"] >= 1714284000) & (df_vehicle[\"timestamp_unix_end\"] <= 1714288020)\n",
    "# ]\n",
    "print(df_vehicle_with_cross_and_reverse[\n",
    "    [\n",
    "        *conf.VEHICLE_INTEREST_NON_SNAPSHOT,\n",
    "        \"cross_count\",\n",
    "        \"reverse_count\",\n",
    "        # \"frame_no\",\n",
    "    ]\n",
    "].to_string())\n",
    "\n"
   ]
  },
  {
   "cell_type": "code",
   "execution_count": 6,
   "metadata": {},
   "outputs": [],
   "source": [
    "# df_vehicle_with_cross_and_reverse.to_csv(path_or_buf=SAVE_DIR, index=False)"
   ]
  },
  {
   "cell_type": "markdown",
   "metadata": {},
   "source": [
    "## TODO \n",
    "- check cross walk angle?\n",
    "- allow customer able to be classified to the next car (not found in the current time stamp)?\n",
    "- check displacement?"
   ]
  }
 ],
 "metadata": {
  "kernelspec": {
   "display_name": "ml_env",
   "language": "python",
   "name": "python3"
  },
  "language_info": {
   "codemirror_mode": {
    "name": "ipython",
    "version": 3
   },
   "file_extension": ".py",
   "mimetype": "text/x-python",
   "name": "python",
   "nbconvert_exporter": "python",
   "pygments_lexer": "ipython3",
   "version": "3.12.2"
  }
 },
 "nbformat": 4,
 "nbformat_minor": 2
}
