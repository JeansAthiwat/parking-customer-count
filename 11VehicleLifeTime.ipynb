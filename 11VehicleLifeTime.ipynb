{
 "cells": [
  {
   "cell_type": "markdown",
   "metadata": {},
   "source": [
    "### Exp: 1 working with Non-snapshot\n",
    "\n",
    "Assumption: every same vehicle in the same parking timespan have a customer that belongs to that car\n",
    "\n",
    "Vehicle : check , same type, same cam , timestamp in the lifespan +- grace windows (padding periods) x,y is near each other ~~appear at least 2 timeframe~~ on the same x,y on non-snapshot cam\n",
    "\n",
    "OUTPUT : vehicle_index : {timestamp range, x, y, vehicle type, }\n",
    "\n",
    "camera used : mbk-14-12-vehicle "
   ]
  },
  {
   "cell_type": "code",
   "execution_count": 1,
   "metadata": {},
   "outputs": [],
   "source": [
    "import sys\n",
    "\n",
    "sys.path.append(\"/home/jeans/internship/parking-customer-count\")\n",
    "\n",
    "from countpassenger.Config import conf\n",
    "from countpassenger import Preprocess\n",
    "from countpassenger.Approch1 import match_cross_to_vehicle, match_reverse_to_vehicle\n",
    "\n",
    "import countpassenger\n",
    "import pandas as pd\n",
    "import numpy as np\n",
    "\n",
    "import os.path as osp\n",
    "import os\n",
    "\n",
    "CURRENT_CAM = \"mbk-14-11\"\n",
    "\n",
    "df_vehicle = pd.read_csv(\n",
    "    osp.join(conf.RESOURCES_RAW_DIR, \"2024-04-28/mbk-tourist-vehicle-object-20240428.csv\")\n",
    ")\n",
    "df_cross = pd.read_csv(\n",
    "    osp.join(conf.RESOURCES_RAW_DIR, \"2024-04-28/mbk-tourist-raw-cross-object-20240428.csv\")\n",
    ")\n",
    "df_reverse = pd.read_csv(\n",
    "    osp.join(conf.RESOURCES_RAW_DIR, \"2024-04-28/mbk-tourist-raw-reverse-object-20240428.csv\")\n",
    ")\n",
    "\n",
    "# print(df_vehicle[[*conf.VEHICLE_INTEREST_SNAPSHOT]].to_string())\n",
    "df_vehicle = Preprocess.df_clean_vehicle(\n",
    "    df_vehicle=df_vehicle,\n",
    ")\n",
    "df_vehicle = Preprocess.filter_camera(df_vehicle, camera_name=CURRENT_CAM + \"-vehicle\")\n",
    "df_vehicle = Preprocess.sort_df(df_vehicle, conf.VEHICLE_INTEREST_SNAPSHOT)\n",
    "\n",
    "# df_vehicle[conf.VEHICLE_INTEREST_SNAPSHOT]\n",
    "\n",
    "# drop the one that lifetime is less than 4 seconds\n",
    "# df_vehicle = df_vehicle.loc[(df_vehicle[\"lifetime\"] > 4),]\n",
    "\n",
    "# create a timestamp_unix at the end of lifespan\n",
    "# df_vehicle[\"timestamp_unix_end\"] = df_vehicle[\"timestamp_unix\"] + (df_vehicle[\"lifetime\"].astype(np.int64))\n",
    "# print(df_vehicle[[*conf.VEHICLE_INTEREST_SNAPSHOT,'timestamp_unix','timestamp_unix_end']].to_string())"
   ]
  },
  {
   "cell_type": "markdown",
   "metadata": {},
   "source": [
    "## Cross vs Vehicle"
   ]
  },
  {
   "cell_type": "code",
   "execution_count": 2,
   "metadata": {},
   "outputs": [],
   "source": [
    "df_cross = Preprocess.df_clean_customer(df_cross)\n",
    "df_cross = Preprocess.filter_camera(df_cross, camera_name=CURRENT_CAM)\n",
    "df_cross = Preprocess.sort_df(df_cross, conf.CUSTOMER_INTEREST_SNAPSHOT)\n",
    "\n",
    "# print(df_cross[[*conf.CUSTOMER_INTEREST_SNAPSHOT,'timestamp_unix']].to_string())"
   ]
  },
  {
   "cell_type": "markdown",
   "metadata": {},
   "source": [
    "## Reverse vs Vehicle"
   ]
  },
  {
   "cell_type": "code",
   "execution_count": 3,
   "metadata": {},
   "outputs": [],
   "source": [
    "df_reverse = Preprocess.df_clean_customer(df_reverse)\n",
    "df_reverse = Preprocess.filter_camera(df_reverse, camera_name=CURRENT_CAM)\n",
    "df_reverse = Preprocess.sort_df(df_reverse, conf.CUSTOMER_INTEREST_SNAPSHOT)\n",
    "\n",
    "# print(df_reverse[[*conf.CUSTOMER_INTEREST_SNAPSHOT, \"timestamp_unix\"]].to_string())"
   ]
  },
  {
   "cell_type": "markdown",
   "metadata": {},
   "source": [
    "## TOGETHER\n"
   ]
  },
  {
   "cell_type": "code",
   "execution_count": 4,
   "metadata": {},
   "outputs": [
    {
     "data": {
      "text/plain": [
       "2340    1.480\n",
       "2341    1.000\n",
       "2336    1.001\n",
       "2337    1.360\n",
       "2331    0.000\n",
       "        ...  \n",
       "53      1.000\n",
       "54      1.518\n",
       "39      1.479\n",
       "40      0.760\n",
       "19      1.240\n",
       "Name: lifetime, Length: 252, dtype: float64"
      ]
     },
     "execution_count": 4,
     "metadata": {},
     "output_type": "execute_result"
    }
   ],
   "source": [
    "df_vehicle[\"lifetime\"]"
   ]
  },
  {
   "cell_type": "code",
   "execution_count": 5,
   "metadata": {},
   "outputs": [
    {
     "name": "stdout",
     "output_type": "stream",
     "text": [
      "                 camera       timestamp_precise    xmid   ymid  lifetime plate_number vehicle_type  timestamp_unix  timestamp_unix_end  cross_count  reverse_count               original_video_name\n",
      "1867  mbk-14-11-vehicle 2024-04-28 06:02:29.843  1388.5  120.5    18.875        41360        sedan      1714284149          1714284167            2              0  mbk-14-11-vehicle_1714284001.mp4\n",
      "1860  mbk-14-11-vehicle 2024-04-28 06:05:35.235  1406.5  126.0    28.751      6กม9678        sedan      1714284335          1714284363            1              1  mbk-14-11-vehicle_1714284301.mp4\n",
      "1861  mbk-14-11-vehicle 2024-04-28 06:06:08.106  1403.0  140.5    15.516       มฎ5222          suv      1714284368          1714284383            4              0  mbk-14-11-vehicle_1714284301.mp4\n",
      "1862  mbk-14-11-vehicle 2024-04-28 06:06:28.620  1535.0  187.0    32.111      3กฐ7375    hatchback      1714284388          1714284420            2              0  mbk-14-11-vehicle_1714284301.mp4\n",
      "1863  mbk-14-11-vehicle 2024-04-28 06:08:58.459  1892.5  214.0    51.865        สก573       tuktuk      1714284538          1714284589            0              0  mbk-14-11-vehicle_1714284301.mp4\n",
      "1850  mbk-14-11-vehicle 2024-04-28 06:09:36.567  1416.5  179.0    30.955       ทส4264        sedan      1714284576          1714284606            1              0  mbk-14-11-vehicle_1714284301.mp4\n",
      "1851  mbk-14-11-vehicle 2024-04-28 06:10:12.521  1630.0  196.5    35.316      4ขภ5400       pickup      1714284612          1714284647            1              0  mbk-14-11-vehicle_1714284601.mp4\n",
      "1852  mbk-14-11-vehicle 2024-04-28 06:10:36.875  1426.5  175.5     7.878       สก2722       tuktuk      1714284636          1714284643            0              0  mbk-14-11-vehicle_1714284601.mp4\n",
      "1853  mbk-14-11-vehicle 2024-04-28 06:12:27.004  1425.0  174.0    22.594      2ขจ8645       pickup      1714284747          1714284769            0              3  mbk-14-11-vehicle_1714284601.mp4\n",
      "1854  mbk-14-11-vehicle 2024-04-28 06:13:05.633  1421.5  168.5    31.511      5กน9372       pickup      1714284785          1714284816            1              0  mbk-14-11-vehicle_1714284601.mp4\n",
      "1855  mbk-14-11-vehicle 2024-04-28 06:14:44.965  1496.5  185.0    64.382          NaN          van      1714284884          1714284948            0              0  mbk-14-11-vehicle_1714284601.mp4\n",
      "1834  mbk-14-11-vehicle 2024-04-28 06:16:02.347  1418.0  141.5    32.230          NaN          NaN      1714284962          1714284994            7              2  mbk-14-11-vehicle_1714284901.mp4\n",
      "1836  mbk-14-11-vehicle 2024-04-28 06:16:46.975  1407.5  115.5    24.353          NaN          NaN      1714285006          1714285030            0              0  mbk-14-11-vehicle_1714284901.mp4\n",
      "1835  mbk-14-11-vehicle 2024-04-28 06:17:10.728  1417.0  163.5    27.873          NaN          NaN      1714285030          1714285057            0              0  mbk-14-11-vehicle_1714284901.mp4\n",
      "1837  mbk-14-11-vehicle 2024-04-28 06:17:19.726  1392.5  112.0    30.391          NaN          NaN      1714285039          1714285069            0              0  mbk-14-11-vehicle_1714284901.mp4\n",
      "1838  mbk-14-11-vehicle 2024-04-28 06:17:41.840  1734.5  203.5    33.630          NaN          NaN      1714285061          1714285094            5              1  mbk-14-11-vehicle_1714284901.mp4\n",
      "1839  mbk-14-11-vehicle 2024-04-28 06:19:31.449  1398.0   95.5     3.399          NaN          NaN      1714285171          1714285174            0              0  mbk-14-11-vehicle_1714284901.mp4\n",
      "1821  mbk-14-11-vehicle 2024-04-28 06:19:35.928  1398.0  133.5    30.596       มฎ8573        truck      1714285175          1714285205            4              1  mbk-14-11-vehicle_1714284901.mp4\n",
      "1818  mbk-14-11-vehicle 2024-04-28 06:20:25.758  1405.5  118.0    43.592        ท8401       pickup      1714285225          1714285268            3              0  mbk-14-11-vehicle_1714285201.mp4\n",
      "1817  mbk-14-11-vehicle 2024-04-28 06:27:13.968  2403.0  260.5     0.240          NaN        other      1714285633          1714285633            0              0  mbk-14-11-vehicle_1714285501.mp4\n",
      "1801  mbk-14-11-vehicle 2024-04-28 06:32:25.205  1476.5  185.0    15.516      4ขฆ6934          suv      1714285945          1714285960            0              0  mbk-14-11-vehicle_1714285801.mp4\n",
      "1802  mbk-14-11-vehicle 2024-04-28 06:32:39.841  1406.0  136.5     4.997        สฐ575       pickup      1714285959          1714285963            0              0  mbk-14-11-vehicle_1714285801.mp4\n",
      "1776  mbk-14-11-vehicle 2024-04-28 06:34:53.283  1750.5  205.5   137.682       344032       pickup      1714286093          1714286230            0              2  mbk-14-11-vehicle_1714285801.mp4\n",
      "1753  mbk-14-11-vehicle 2024-04-28 06:39:52.043  1634.5  199.0   292.798        33302       pickup      1714286392          1714286684            1              1  mbk-14-11-vehicle_1714286101.mp4\n",
      "1754  mbk-14-11-vehicle 2024-04-28 06:39:57.043  1418.0  176.5     8.639          NaN       pickup      1714286397          1714286405            0              0  mbk-14-11-vehicle_1714286101.mp4\n",
      "1755  mbk-14-11-vehicle 2024-04-28 06:40:33.876  1380.5  170.5     4.399        37173        truck      1714286433          1714286437            0              0  mbk-14-11-vehicle_1714286401.mp4\n",
      "1756  mbk-14-11-vehicle 2024-04-28 06:43:08.712  1418.0  142.5    31.631       ฌฐ1856       pickup      1714286588          1714286619            0              0  mbk-14-11-vehicle_1714286401.mp4\n",
      "1739  mbk-14-11-vehicle 2024-04-28 06:54:34.648  1421.5  178.0   404.452          NaN       pickup      1714287274          1714287678           18              7  mbk-14-11-vehicle_1714287001.mp4\n",
      "1724  mbk-14-11-vehicle 2024-04-28 06:55:39.354  1414.5  146.0    63.826          NaN          NaN      1714287339          1714287402            0              0  mbk-14-11-vehicle_1714287301.mp4\n",
      "1725  mbk-14-11-vehicle 2024-04-28 06:56:38.857  1423.5  154.5    66.101          NaN          NaN      1714287398          1714287464            0              1  mbk-14-11-vehicle_1714287301.mp4\n",
      "1726  mbk-14-11-vehicle 2024-04-28 06:57:10.488  1230.5  146.0     4.838          NaN          NaN      1714287430          1714287434            0              2  mbk-14-11-vehicle_1714287301.mp4\n",
      "1705  mbk-14-11-vehicle 2024-04-28 07:00:56.870  1322.0  173.0     8.118          NaN        other      1714287656          1714287664            0              0  mbk-14-11-vehicle_1714287601.mp4\n"
     ]
    }
   ],
   "source": [
    "df_vehicle = match_reverse_to_vehicle(df_reverse, df_vehicle)\n",
    "df_vehicle = match_cross_to_vehicle(\n",
    "    df_cross,\n",
    "    df_vehicle,\n",
    ")\n",
    "\n",
    "\n",
    "df_vehicle = df_vehicle[\n",
    "    (df_vehicle[\"timestamp_unix\"] >= 1714284000) & (df_vehicle[\"timestamp_unix_end\"] <= 1714288020)\n",
    "]\n",
    "df_vehicle = df_vehicle[\n",
    "    [\n",
    "        *conf.VEHICLE_INTEREST_SNAPSHOT,\n",
    "        \"cross_count\",\n",
    "        \"reverse_count\",\n",
    "        \"original_video_name\",\n",
    "        # \"frame_no\",\n",
    "    ]\n",
    "]\n",
    "\n",
    "df_vehicle = Preprocess.sort_df(df_vehicle, conf.VEHICLE_INTEREST_SNAPSHOT)\n",
    "print(df_vehicle.to_string())\n",
    "\n",
    "[\n",
    "    \"camera\",\n",
    "    \"timestamp_precise\",\n",
    "    \"lifetime\",\n",
    "    \"plate_number\",\n",
    "    \"vehicle_type\",\n",
    "    \"timestamp_unix\",\n",
    "    \"timestamp_unix_end\",\n",
    "    \"cross_count\",\n",
    "    \"reverse_count\",\n",
    "    \"xmid\",\n",
    "    \"ymid\",\n",
    "]"
   ]
  },
  {
   "cell_type": "markdown",
   "metadata": {},
   "source": [
    "## TODO \n",
    "- check cross walk angle?\n",
    "- allow customer able to be classified to the next car (not found in the current time stamp)?\n",
    "- check displacement?"
   ]
  }
 ],
 "metadata": {
  "kernelspec": {
   "display_name": "ml_env",
   "language": "python",
   "name": "python3"
  },
  "language_info": {
   "codemirror_mode": {
    "name": "ipython",
    "version": 3
   },
   "file_extension": ".py",
   "mimetype": "text/x-python",
   "name": "python",
   "nbconvert_exporter": "python",
   "pygments_lexer": "ipython3",
   "version": "3.12.2"
  }
 },
 "nbformat": 4,
 "nbformat_minor": 2
}
