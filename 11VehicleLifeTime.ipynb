{
 "cells": [
  {
   "cell_type": "markdown",
   "metadata": {},
   "source": [
    "### Exp: 1 working with Non-snapshot\n",
    "\n",
    "Assumption: every same vehicle in the same parking timespan have a customer that belongs to that car\n",
    "\n",
    "Vehicle : check , same type, same cam , timestamp in the lifespan +- grace windows (padding periods) x,y is near each other ~~appear at least 2 timeframe~~ on the same x,y on non-snapshot cam\n",
    "\n",
    "OUTPUT : vehicle_index : {timestamp range, x, y, vehicle type, }\n",
    "\n",
    "camera used : mbk-14-12-vehicle "
   ]
  },
  {
   "cell_type": "code",
   "execution_count": null,
   "metadata": {},
   "outputs": [],
   "source": [
    "import sys\n",
    "\n",
    "sys.path.append(\"/home/jeans/internship/parking-customer-count\")\n",
    "\n",
    "from countpassenger.Config import conf\n",
    "from countpassenger import Preprocess\n",
    "from countpassenger.Approch1 import match_cross_to_vehicle, match_reverse_to_vehicle\n",
    "from countpassenger import Dataset\n",
    "\n",
    "import countpassenger\n",
    "import pandas as pd\n",
    "import numpy as np\n",
    "\n",
    "import os.path as osp\n",
    "import os\n",
    "\n",
    "CURRENT_CAM = \"mbk-14-14\"\n",
    "SAVE_DIR = os.path.join(\n",
    "    conf.RESOURCES_PROCESSED_DIR, f\"2024-04-28/count-passengers-{CURRENT_CAM}-vehicle.csv\"\n",
    ")\n",
    "load_param = dict(\n",
    "    vehicle_path_rel=\"2024-04-28/mbk-tourist-vehicle-object-20240428.csv\",\n",
    "    cross_path_rel=\"2024-04-28/mbk-tourist-raw-cross-object-20240428.csv\",\n",
    "    reverse_path_rel=\"2024-04-28/mbk-tourist-raw-reverse-object-20240428.csv\",\n",
    ")"
   ]
  },
  {
   "cell_type": "code",
   "execution_count": 1,
   "metadata": {},
   "outputs": [],
   "source": [
    "df_vehicle, df_cross, df_reverse = Dataset.load_dataset_from_paths(**load_param)\n",
    "\n",
    "# print(df_vehicle[[*conf.VEHICLE_INTEREST_NON_SNAPSHOT]].to_string())\n",
    "df_vehicle = Preprocess.df_clean_vehicle(\n",
    "    df_vehicle=df_vehicle,\n",
    ")\n",
    "df_vehicle = Preprocess.filter_camera(df_vehicle, camera_name=CURRENT_CAM + \"-vehicle\")\n",
    "df_vehicle = Preprocess.sort_df(df_vehicle, conf.VEHICLE_INTEREST_NON_SNAPSHOT)\n",
    "\n",
    "# print(df_vehicle[[*conf.VEHICLE_INTEREST_NON_SNAPSHOT,'timestamp_unix','timestamp_unix_end']].to_string())"
   ]
  },
  {
   "cell_type": "markdown",
   "metadata": {},
   "source": [
    "## Cross vs Vehicle"
   ]
  },
  {
   "cell_type": "code",
   "execution_count": 2,
   "metadata": {},
   "outputs": [],
   "source": [
    "df_cross = Preprocess.df_clean_customer(df_cross)\n",
    "df_cross = Preprocess.filter_camera(df_cross, camera_name=CURRENT_CAM)\n",
    "df_cross = Preprocess.sort_df(df_cross, conf.CUSTOMER_INTEREST_SNAPSHOT)\n",
    "\n",
    "# print(df_cross[[*conf.CUSTOMER_INTEREST_SNAPSHOT, \"timestamp_unix\"]].to_string())"
   ]
  },
  {
   "cell_type": "markdown",
   "metadata": {},
   "source": [
    "## Reverse vs Vehicle"
   ]
  },
  {
   "cell_type": "code",
   "execution_count": 3,
   "metadata": {},
   "outputs": [],
   "source": [
    "df_reverse = Preprocess.df_clean_customer(df_reverse)\n",
    "df_reverse = Preprocess.filter_camera(df_reverse, camera_name=CURRENT_CAM)\n",
    "df_reverse = Preprocess.sort_df(df_reverse, conf.CUSTOMER_INTEREST_SNAPSHOT)\n",
    "\n",
    "# print(df_reverse[[*conf.CUSTOMER_INTEREST_SNAPSHOT, \"timestamp_unix\"]].to_string())"
   ]
  },
  {
   "cell_type": "markdown",
   "metadata": {},
   "source": [
    "## TOGETHER\n"
   ]
  },
  {
   "cell_type": "code",
   "execution_count": 4,
   "metadata": {},
   "outputs": [],
   "source": [
    "df_reverse_with_reverse_count = match_reverse_to_vehicle(df_reverse, df_vehicle)\n",
    "df_vehicle_with_cross_and_reverse = match_cross_to_vehicle(\n",
    "    df_cross,\n",
    "    df_reverse_with_reverse_count,\n",
    ")\n",
    "\n",
    "# df_vehicle = df_vehicle[\n",
    "#     (df_vehicle[\"timestamp_unix\"] >= 1714284000) & (df_vehicle[\"timestamp_unix_end\"] <= 1714288020)\n",
    "# ]\n",
    "# df_vehicle = df_vehicle[\n",
    "#     [\n",
    "#         *conf.VEHICLE_INTEREST_NON_SNAPSHOT,\n",
    "#         \"cross_count\",\n",
    "#         \"reverse_count\",\n",
    "#         \"original_video_name\",\n",
    "#         # \"frame_no\",\n",
    "#     ]\n",
    "# ]\n"
   ]
  },
  {
   "cell_type": "code",
   "execution_count": 5,
   "metadata": {},
   "outputs": [],
   "source": [
    "df_vehicle_with_cross_and_reverse.to_csv(path_or_buf=SAVE_DIR, index=False)"
   ]
  },
  {
   "cell_type": "markdown",
   "metadata": {},
   "source": [
    "## TODO \n",
    "- check cross walk angle?\n",
    "- allow customer able to be classified to the next car (not found in the current time stamp)?\n",
    "- check displacement?"
   ]
  }
 ],
 "metadata": {
  "kernelspec": {
   "display_name": "ml_env",
   "language": "python",
   "name": "python3"
  },
  "language_info": {
   "codemirror_mode": {
    "name": "ipython",
    "version": 3
   },
   "file_extension": ".py",
   "mimetype": "text/x-python",
   "name": "python",
   "nbconvert_exporter": "python",
   "pygments_lexer": "ipython3",
   "version": "3.12.2"
  }
 },
 "nbformat": 4,
 "nbformat_minor": 2
}
