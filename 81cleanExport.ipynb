{
 "cells": [
  {
   "cell_type": "code",
   "execution_count": 1,
   "metadata": {},
   "outputs": [],
   "source": [
    "import pandas as pd\n",
    "import os\n",
    "\n",
    "\n",
    "def filter_csv(input_path, output_path,drop_null=False,subset=[\"plate_number\"]):\n",
    "    \"\"\"\n",
    "    Filters specific columns from a CSV file and exports to a new CSV file.\n",
    "\n",
    "    Parameters:\n",
    "    input_path (str): Path to the input CSV file.\n",
    "    output_path (str): Path to the output CSV file. \n",
    "    \"\"\"\n",
    "    # Define the columns to be extracted\n",
    "    columns_to_extract = [\"timestamp_precise\", \"plate_number\", \"vehicle_type\", \"cross_count\", \"reverse_count\"]\n",
    "\n",
    "    try:\n",
    "        # Read the CSV file\n",
    "        df = pd.read_csv(input_path)\n",
    "\n",
    "        # Check if all necessary columns are present\n",
    "        if all(col in df.columns for col in columns_to_extract):\n",
    "            # Extract the specific columns\n",
    "            filtered_df = df[columns_to_extract]\n",
    "            if drop_null:\n",
    "                filtered_df = filtered_df.dropna(subset=subset)\n",
    "\n",
    "            # Write the filtered dataframe to a new CSV file\n",
    "            filtered_df.to_csv(output_path, index=False)\n",
    "            print(f\"Filtered CSV written to {output_path}\")\n",
    "        else:\n",
    "            missing_columns = [col for col in columns_to_extract if col not in df.columns]\n",
    "            print(f\"Error: Missing columns in input file: {missing_columns}\")\n",
    "\n",
    "    except Exception as e:\n",
    "        print(f\"Error processing file: {e}\")"
   ]
  },
  {
   "cell_type": "code",
   "execution_count": 2,
   "metadata": {},
   "outputs": [
    {
     "name": "stdout",
     "output_type": "stream",
     "text": [
      "Filtered CSV written to /home/jeans/internship/parking-customer-count/resources/lastday/filtered/2024-07-01_count-passengers-mbk-tourist-vehicle-object_VISIBLE_PLATE.csv\n"
     ]
    }
   ],
   "source": [
    "# DIR_DATA = '/home/jeans/internship/parking-customer-count/resources/processed'\n",
    "# INPUT_FILE_NAME = '2024-04-29_count-passengers-mbk-tourist-vehicle-object-snapshot.csv'\n",
    "# input_file = os.path.join(DIR_DATA, INPUT_FILE_NAME)\n",
    "# output_file = f'{DIR_DATA}/filtered/dropNULL/{INPUT_FILE_NAME}'\n",
    "\n",
    "# filter_csv(input_file, output_file,drop_null=True)\n",
    "\n",
    "input_file = '/home/jeans/internship/parking-customer-count/resources/lastday/processed/2024-07-01_count-passengers-mbk-tourist-vehicle-object.csv'\n",
    "output_file = f'/home/jeans/internship/parking-customer-count/resources/lastday/filtered/2024-07-01_count-passengers-mbk-tourist-vehicle-object_VISIBLE_PLATE.csv'\n",
    "\n",
    "filter_csv(input_file, output_file,drop_null=True)"
   ]
  }
 ],
 "metadata": {
  "kernelspec": {
   "display_name": "ml_env",
   "language": "python",
   "name": "python3"
  },
  "language_info": {
   "codemirror_mode": {
    "name": "ipython",
    "version": 3
   },
   "file_extension": ".py",
   "mimetype": "text/x-python",
   "name": "python",
   "nbconvert_exporter": "python",
   "pygments_lexer": "ipython3",
   "version": "3.12.2"
  }
 },
 "nbformat": 4,
 "nbformat_minor": 2
}
