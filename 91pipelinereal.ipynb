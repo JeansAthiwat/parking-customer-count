{
 "cells": [
  {
   "cell_type": "markdown",
   "metadata": {},
   "source": [
    "### Exp: 1 working with Non-snapshot\n",
    "\n",
    "Assumption: every same vehicle in the same parking timespan have a customer that belongs to that car\n",
    "\n",
    "Vehicle : check , same type, same cam , timestamp in the lifespan +- grace windows (padding periods) x,y is near each other ~~appear at least 2 timeframe~~ on the same x,y on non-snapshot cam\n",
    "\n",
    "OUTPUT : vehicle_index : {timestamp range, x, y, vehicle type, }\n",
    "\n",
    "camera used : mbk-14-12-vehicle "
   ]
  },
  {
   "cell_type": "code",
   "execution_count": 2,
   "metadata": {},
   "outputs": [
    {
     "name": "stdout",
     "output_type": "stream",
     "text": [
      "(4871, 36)\n",
      "(4871, 36)\n"
     ]
    },
    {
     "ename": "KeyboardInterrupt",
     "evalue": "",
     "output_type": "error",
     "traceback": [
      "\u001b[0;31m---------------------------------------------------------------------------\u001b[0m",
      "\u001b[0;31mKeyboardInterrupt\u001b[0m                         Traceback (most recent call last)",
      "Cell \u001b[0;32mIn[2], line 53\u001b[0m\n\u001b[1;32m     50\u001b[0m     \u001b[38;5;28mprint\u001b[39m(\u001b[38;5;124m\"\u001b[39m\u001b[38;5;124mREVERSE DATASET\u001b[39m\u001b[38;5;124m\"\u001b[39m)\n\u001b[1;32m     51\u001b[0m     \u001b[38;5;28mprint\u001b[39m(df_reverse[[\u001b[38;5;241m*\u001b[39mconf\u001b[38;5;241m.\u001b[39mCUSTOMER_INTEREST_SNAPSHOT, \u001b[38;5;124m\"\u001b[39m\u001b[38;5;124mtimestamp_unix\u001b[39m\u001b[38;5;124m\"\u001b[39m]]\u001b[38;5;241m.\u001b[39mhead()\u001b[38;5;241m.\u001b[39mto_string())\n\u001b[0;32m---> 53\u001b[0m df_vehicle_with_cross_and_reverse \u001b[38;5;241m=\u001b[39m \u001b[43mpredict_count\u001b[49m\u001b[43m(\u001b[49m\n\u001b[1;32m     54\u001b[0m \u001b[43m    \u001b[49m\u001b[43mdf_vehicle\u001b[49m\u001b[43m,\u001b[49m\n\u001b[1;32m     55\u001b[0m \u001b[43m    \u001b[49m\u001b[43mdf_cross\u001b[49m\u001b[43m,\u001b[49m\n\u001b[1;32m     56\u001b[0m \u001b[43m    \u001b[49m\u001b[43mdf_reverse\u001b[49m\u001b[43m,\u001b[49m\n\u001b[1;32m     57\u001b[0m \u001b[43m\u001b[49m\u001b[43m)\u001b[49m\n\u001b[1;32m     58\u001b[0m \u001b[38;5;28mprint\u001b[39m(df_vehicle_with_cross_and_reverse\u001b[38;5;241m.\u001b[39mshape)\n\u001b[1;32m     59\u001b[0m df_with_count_tmp \u001b[38;5;241m=\u001b[39m pd\u001b[38;5;241m.\u001b[39mconcat([df_with_count_tmp, df_vehicle_with_cross_and_reverse], ignore_index\u001b[38;5;241m=\u001b[39m\u001b[38;5;28;01mTrue\u001b[39;00m)\n",
      "File \u001b[0;32m~/internship/parking-customer-count/countpassenger/Approch1.py:83\u001b[0m, in \u001b[0;36mpredict_count\u001b[0;34m(df_vehicle_processed, df_cross_processed, df_reverse_processed)\u001b[0m\n\u001b[1;32m     81\u001b[0m \u001b[38;5;28;01mdef\u001b[39;00m \u001b[38;5;21mpredict_count\u001b[39m(df_vehicle_processed, df_cross_processed, df_reverse_processed):\n\u001b[1;32m     82\u001b[0m     vehicle_with_reverse_count \u001b[38;5;241m=\u001b[39m match_reverse_to_vehicle(df_reverse_processed, df_vehicle_processed)\n\u001b[0;32m---> 83\u001b[0m     vehicle_with_cross_and_reverse \u001b[38;5;241m=\u001b[39m \u001b[43mmatch_cross_to_vehicle\u001b[49m\u001b[43m(\u001b[49m\u001b[43mdf_cross_processed\u001b[49m\u001b[43m,\u001b[49m\u001b[43m \u001b[49m\u001b[43mvehicle_with_reverse_count\u001b[49m\u001b[43m)\u001b[49m\n\u001b[1;32m     84\u001b[0m     \u001b[38;5;28;01mreturn\u001b[39;00m vehicle_with_cross_and_reverse\n",
      "File \u001b[0;32m~/internship/parking-customer-count/countpassenger/Approch1.py:20\u001b[0m, in \u001b[0;36mmatch_cross_to_vehicle\u001b[0;34m(df_cross, df_vehicle, start_padding, stop_padding)\u001b[0m\n\u001b[1;32m     16\u001b[0m df_vehicle_copy[\u001b[38;5;124m\"\u001b[39m\u001b[38;5;124mcross_count\u001b[39m\u001b[38;5;124m\"\u001b[39m] \u001b[38;5;241m=\u001b[39m \u001b[38;5;241m0\u001b[39m\n\u001b[1;32m     18\u001b[0m \u001b[38;5;28;01mfor\u001b[39;00m index, row \u001b[38;5;129;01min\u001b[39;00m df_cross\u001b[38;5;241m.\u001b[39miterrows():\n\u001b[1;32m     19\u001b[0m     \u001b[38;5;66;03m# Find the rows in df_vehicle where the timestamp is within the range\u001b[39;00m\n\u001b[0;32m---> 20\u001b[0m     mask_time \u001b[38;5;241m=\u001b[39m (\u001b[43mdf_vehicle_copy\u001b[49m\u001b[43m[\u001b[49m\u001b[38;5;124;43m\"\u001b[39;49m\u001b[38;5;124;43mtimestamp_unix\u001b[39;49m\u001b[38;5;124;43m\"\u001b[39;49m\u001b[43m]\u001b[49m \u001b[38;5;241m-\u001b[39m start_padding \u001b[38;5;241m<\u001b[39m\u001b[38;5;241m=\u001b[39m row[\u001b[38;5;124m\"\u001b[39m\u001b[38;5;124mtimestamp_unix\u001b[39m\u001b[38;5;124m\"\u001b[39m]) \u001b[38;5;241m&\u001b[39m (\n\u001b[1;32m     21\u001b[0m         df_vehicle_copy[\u001b[38;5;124m\"\u001b[39m\u001b[38;5;124mtimestamp_unix_end\u001b[39m\u001b[38;5;124m\"\u001b[39m] \u001b[38;5;241m+\u001b[39m stop_padding \u001b[38;5;241m>\u001b[39m\u001b[38;5;241m=\u001b[39m row[\u001b[38;5;124m\"\u001b[39m\u001b[38;5;124mtimestamp_unix\u001b[39m\u001b[38;5;124m\"\u001b[39m]\n\u001b[1;32m     22\u001b[0m     )\n\u001b[1;32m     24\u001b[0m     \u001b[38;5;66;03m# if lifetime is more than 400sec it might be parking car check only the first 2 min and last 2 min\u001b[39;00m\n\u001b[1;32m     25\u001b[0m     mask_parked \u001b[38;5;241m=\u001b[39m (df_vehicle_copy[\u001b[38;5;124m\"\u001b[39m\u001b[38;5;124mlifetime\u001b[39m\u001b[38;5;124m\"\u001b[39m] \u001b[38;5;241m<\u001b[39m \u001b[38;5;241m400\u001b[39m) \u001b[38;5;241m|\u001b[39m (\n\u001b[1;32m     26\u001b[0m         (row[\u001b[38;5;124m\"\u001b[39m\u001b[38;5;124mtimestamp_unix\u001b[39m\u001b[38;5;124m\"\u001b[39m] \u001b[38;5;241m<\u001b[39m\u001b[38;5;241m=\u001b[39m df_vehicle_copy[\u001b[38;5;124m\"\u001b[39m\u001b[38;5;124mtimestamp_unix\u001b[39m\u001b[38;5;124m\"\u001b[39m] \u001b[38;5;241m+\u001b[39m PARKED_CHECK_WINDOW)\n\u001b[1;32m     27\u001b[0m         \u001b[38;5;241m|\u001b[39m (df_vehicle_copy[\u001b[38;5;124m\"\u001b[39m\u001b[38;5;124mtimestamp_unix_end\u001b[39m\u001b[38;5;124m\"\u001b[39m] \u001b[38;5;241m-\u001b[39m PARKED_CHECK_WINDOW \u001b[38;5;241m<\u001b[39m\u001b[38;5;241m=\u001b[39m row[\u001b[38;5;124m\"\u001b[39m\u001b[38;5;124mtimestamp_unix\u001b[39m\u001b[38;5;124m\"\u001b[39m])\n\u001b[1;32m     28\u001b[0m     )\n",
      "File \u001b[0;32m~/anaconda3/envs/ml_env/lib/python3.12/site-packages/pandas/core/frame.py:4063\u001b[0m, in \u001b[0;36mDataFrame.__getitem__\u001b[0;34m(self, key)\u001b[0m\n\u001b[1;32m   4062\u001b[0m \u001b[38;5;28;01mdef\u001b[39;00m \u001b[38;5;21m__getitem__\u001b[39m(\u001b[38;5;28mself\u001b[39m, key):\n\u001b[0;32m-> 4063\u001b[0m     \u001b[43mcheck_dict_or_set_indexers\u001b[49m\u001b[43m(\u001b[49m\u001b[43mkey\u001b[49m\u001b[43m)\u001b[49m\n\u001b[1;32m   4064\u001b[0m     key \u001b[38;5;241m=\u001b[39m lib\u001b[38;5;241m.\u001b[39mitem_from_zerodim(key)\n\u001b[1;32m   4065\u001b[0m     key \u001b[38;5;241m=\u001b[39m com\u001b[38;5;241m.\u001b[39mapply_if_callable(key, \u001b[38;5;28mself\u001b[39m)\n",
      "File \u001b[0;32m~/anaconda3/envs/ml_env/lib/python3.12/site-packages/pandas/core/indexing.py:2765\u001b[0m, in \u001b[0;36mcheck_dict_or_set_indexers\u001b[0;34m(key)\u001b[0m\n\u001b[1;32m   2753\u001b[0m \u001b[38;5;250m    \u001b[39m\u001b[38;5;124;03m\"\"\"\u001b[39;00m\n\u001b[1;32m   2754\u001b[0m \u001b[38;5;124;03m    Returns\u001b[39;00m\n\u001b[1;32m   2755\u001b[0m \u001b[38;5;124;03m    -------\u001b[39;00m\n\u001b[1;32m   2756\u001b[0m \u001b[38;5;124;03m    bool\u001b[39;00m\n\u001b[1;32m   2757\u001b[0m \u001b[38;5;124;03m    \"\"\"\u001b[39;00m\n\u001b[1;32m   2758\u001b[0m     \u001b[38;5;28;01mreturn\u001b[39;00m (\n\u001b[1;32m   2759\u001b[0m         obj\u001b[38;5;241m.\u001b[39mstart \u001b[38;5;129;01mis\u001b[39;00m \u001b[38;5;129;01mnot\u001b[39;00m \u001b[38;5;28;01mNone\u001b[39;00m\n\u001b[1;32m   2760\u001b[0m         \u001b[38;5;129;01mor\u001b[39;00m obj\u001b[38;5;241m.\u001b[39mstop \u001b[38;5;129;01mis\u001b[39;00m \u001b[38;5;129;01mnot\u001b[39;00m \u001b[38;5;28;01mNone\u001b[39;00m\n\u001b[1;32m   2761\u001b[0m         \u001b[38;5;129;01mor\u001b[39;00m (obj\u001b[38;5;241m.\u001b[39mstep \u001b[38;5;129;01mis\u001b[39;00m \u001b[38;5;129;01mnot\u001b[39;00m \u001b[38;5;28;01mNone\u001b[39;00m \u001b[38;5;129;01mand\u001b[39;00m obj\u001b[38;5;241m.\u001b[39mstep \u001b[38;5;241m!=\u001b[39m \u001b[38;5;241m1\u001b[39m)\n\u001b[1;32m   2762\u001b[0m     )\n\u001b[0;32m-> 2765\u001b[0m \u001b[38;5;28;01mdef\u001b[39;00m \u001b[38;5;21mcheck_dict_or_set_indexers\u001b[39m(key) \u001b[38;5;241m-\u001b[39m\u001b[38;5;241m>\u001b[39m \u001b[38;5;28;01mNone\u001b[39;00m:\n\u001b[1;32m   2766\u001b[0m \u001b[38;5;250m    \u001b[39m\u001b[38;5;124;03m\"\"\"\u001b[39;00m\n\u001b[1;32m   2767\u001b[0m \u001b[38;5;124;03m    Check if the indexer is or contains a dict or set, which is no longer allowed.\u001b[39;00m\n\u001b[1;32m   2768\u001b[0m \u001b[38;5;124;03m    \"\"\"\u001b[39;00m\n\u001b[1;32m   2769\u001b[0m     \u001b[38;5;28;01mif\u001b[39;00m (\n\u001b[1;32m   2770\u001b[0m         \u001b[38;5;28misinstance\u001b[39m(key, \u001b[38;5;28mset\u001b[39m)\n\u001b[1;32m   2771\u001b[0m         \u001b[38;5;129;01mor\u001b[39;00m \u001b[38;5;28misinstance\u001b[39m(key, \u001b[38;5;28mtuple\u001b[39m)\n\u001b[1;32m   2772\u001b[0m         \u001b[38;5;129;01mand\u001b[39;00m \u001b[38;5;28many\u001b[39m(\u001b[38;5;28misinstance\u001b[39m(x, \u001b[38;5;28mset\u001b[39m) \u001b[38;5;28;01mfor\u001b[39;00m x \u001b[38;5;129;01min\u001b[39;00m key)\n\u001b[1;32m   2773\u001b[0m     ):\n",
      "\u001b[0;31mKeyboardInterrupt\u001b[0m: "
     ]
    }
   ],
   "source": [
    "import sys\n",
    "from countpassenger.Config import conf\n",
    "from countpassenger import Preprocess\n",
    "from countpassenger.Approch1 import predict_count\n",
    "from countpassenger import Dataset\n",
    "\n",
    "import countpassenger\n",
    "import pandas as pd\n",
    "import numpy as np\n",
    "\n",
    "import os.path as osp\n",
    "import os\n",
    "\n",
    "df_with_count_tmp = pd.DataFrame()\n",
    "CAMERA_LIST = [\"mbk-14-11\", \"mbk-14-12\", \"mbk-14-13\", \"mbk-14-14\"]\n",
    "# current_cam = \"mbk-14-14\"\n",
    "\n",
    "# SAVE_DIR = os.path.join(\n",
    "#     conf.RESOURCES_PROCESSED_DIR, f\"2024-07-01/count-passengers-{current_cam}-vehicle.csv\"\n",
    "# )\n",
    "\n",
    "load_param = dict(\n",
    "    vehicle_csv_path=\"/home/jeans/internship/parking-customer-count/resources/raw/2024-07-01/mbk-tourist-vehicle-object-20240701-20240731.csv\",\n",
    "    cross_csv_path=\"/home/jeans/internship/parking-customer-count/resources/raw/2024-07-01/mbk-tourist-raw-cross-object-20240701-20240731.csv\",\n",
    "    reverse_csv_path=\"/home/jeans/internship/parking-customer-count/resources/raw/2024-07-01/mbk-tourist-raw-reverse-object-20240701-20240731.csv\",\n",
    ")\n",
    "DEBUG = False\n",
    "\n",
    "for current_cam in CAMERA_LIST:\n",
    "    # load the dataset from directory path\n",
    "    df_vehicle_raw, df_cross_raw, df_reverse_raw = Dataset.load_dataset_from_paths(**load_param)\n",
    "\n",
    "    # preprocess the data\n",
    "    df_vehicle = Preprocess.df_clean_vehicle(df_vehicle_raw=df_vehicle_raw, current_camera=current_cam)\n",
    "    df_cross = Preprocess.df_clean_customer(df_cross_raw, current_cam=current_cam)\n",
    "    df_reverse = Preprocess.df_clean_customer(df_reverse_raw, current_cam=current_cam)\n",
    "\n",
    "    if DEBUG:\n",
    "        print(\"-\" * 60)\n",
    "        print(\"VEHICLE DATASET\")\n",
    "        print(\n",
    "            df_vehicle[[*conf.VEHICLE_INTEREST_NON_SNAPSHOT, \"timestamp_unix\", \"timestamp_unix_end\"]]\n",
    "            .head()\n",
    "            .to_string()\n",
    "        )\n",
    "        print(\"-\" * 60)\n",
    "        print(\"CROSS DATASET\")\n",
    "        print(df_cross[[*conf.CUSTOMER_INTEREST_SNAPSHOT, \"timestamp_unix\"]].head().to_string())\n",
    "        print(\"-\" * 60)\n",
    "        print(\"REVERSE DATASET\")\n",
    "        print(df_reverse[[*conf.CUSTOMER_INTEREST_SNAPSHOT, \"timestamp_unix\"]].head().to_string())\n",
    "\n",
    "    df_vehicle_with_cross_and_reverse = predict_count(\n",
    "        df_vehicle,\n",
    "        df_cross,\n",
    "        df_reverse,\n",
    "    )\n",
    "    \n",
    "    print(f\"processing for cam:{current_cam} completed. total entry: {df_vehicle_with_cross_and_reverse.shape[0]}\")\n",
    "    df_with_count_tmp = pd.concat([df_with_count_tmp, df_vehicle_with_cross_and_reverse], ignore_index=True)\n",
    "    \n",
    "print(df_with_count_tmp.shape)"
   ]
  },
  {
   "cell_type": "markdown",
   "metadata": {},
   "source": [
    "## TOGETHER\n"
   ]
  },
  {
   "cell_type": "code",
   "execution_count": null,
   "metadata": {},
   "outputs": [],
   "source": [
    "# df_reverse_with_reverse_count = match_reverse_to_vehicle(df_reverse, df_vehicle)\n",
    "# df_vehicle_with_cross_and_reverse = match_cross_to_vehicle(\n",
    "#     df_cross,\n",
    "#     df_reverse_with_reverse_count,\n",
    "# )"
   ]
  },
  {
   "cell_type": "code",
   "execution_count": null,
   "metadata": {},
   "outputs": [],
   "source": [
    "df_vehicle_with_cross_and_reverse.to_csv(path_or_buf=SAVE_DIR, index=False)"
   ]
  }
 ],
 "metadata": {
  "kernelspec": {
   "display_name": "ml_env",
   "language": "python",
   "name": "python3"
  },
  "language_info": {
   "codemirror_mode": {
    "name": "ipython",
    "version": 3
   },
   "file_extension": ".py",
   "mimetype": "text/x-python",
   "name": "python",
   "nbconvert_exporter": "python",
   "pygments_lexer": "ipython3",
   "version": "3.12.2"
  }
 },
 "nbformat": 4,
 "nbformat_minor": 2
}
