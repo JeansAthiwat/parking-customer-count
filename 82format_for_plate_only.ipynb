{
 "cells": [
  {
   "cell_type": "code",
   "execution_count": 1,
   "metadata": {},
   "outputs": [],
   "source": [
    "import pandas as pd\n",
    "\n",
    "INPUT_FILE = '/home/jeans/internship/parking-customer-count/resources/lastday/filtered/2024-07-01_count-passengers-mbk-tourist-vehicle-object_VISIBLE_PLATE.csv'\n",
    "OUTPUT_FILE = '/home/jeans/internship/parking-customer-count/resources/lastday/filtered/2024-07-01_mbk_clean_formatted.csv'\n",
    "\n",
    "# Load the CSV file into a DataFrame\n",
    "df = pd.read_csv(INPUT_FILE)\n",
    "\n",
    "# Ensure the timestamp column is in datetime format\n",
    "df['timestamp_precise'] = pd.to_datetime(df['timestamp_precise'])\n",
    "\n",
    "# Add 7 hours to the timestamp column\n",
    "df['timestamp_precise'] = df['timestamp_precise'] + pd.Timedelta(hours=7)\n",
    "\n",
    "# Extract year, month, day, and hour from the timestamp column\n",
    "df['year'] = df['timestamp_precise'].dt.year\n",
    "df['month'] = df['timestamp_precise'].dt.month\n",
    "df['date'] = df['timestamp_precise'].dt.day\n",
    "df['hour'] = df['timestamp_precise'].dt.hour\n",
    "\n",
    "# Remove the decimal milliseconds from 'timestamp_precise'\n",
    "df['timestamp_precise'] = df['timestamp_precise'].dt.strftime('%Y-%m-%d %H:%M:%S')\n",
    "\n",
    "# Rename the columns 'timestamp_precise': 'timestamp',\n",
    "df = df.rename(columns={'cross_count': 'exit', 'reverse_count': 'entrance'})\n",
    "\n",
    "# Rearrange the columns in the specified order\n",
    "column_order = ['timestamp_precise', 'year', 'month', 'date', 'hour', 'plate_number', 'vehicle_type', 'exit', 'entrance']\n",
    "df = df[column_order]\n",
    "\n",
    "# Save the updated DataFrame to a new CSV file\n",
    "df.to_csv(OUTPUT_FILE, index=False)\n"
   ]
  },
  {
   "cell_type": "code",
   "execution_count": 1,
   "metadata": {},
   "outputs": [],
   "source": [
    "# import pandas as pd\n",
    "\n",
    "# INPUT_FILE = '/home/jeans/internship/parking-customer-count/resources/lastday/filtered/2024-07-01_count-passengers-mbk-tourist-vehicle-object_VISIBLE_PLATE.csv'\n",
    "# OUTPUT_FILE = '/home/jeans/internship/parking-customer-count/resources/lastday/filtered/2024-07-01_mbk_with_plate_clean_formatted.csv'\n",
    "\n",
    "# # Load the CSV file into a DataFrame\n",
    "# df = pd.read_csv(INPUT_FILE)\n",
    "\n",
    "# # Ensure the timestamp column is in datetime format\n",
    "# df['timestamp_precise'] = pd.to_datetime(df['timestamp_precise'])\n",
    "\n",
    "# # Add 7 hours to the timestamp column\n",
    "# df['timestamp_precise'] = df['timestamp_precise'] + pd.Timedelta(hours=7)\n",
    "\n",
    "# # Extract year, month, day, and hour from the timestamp column\n",
    "# df['year'] = df['timestamp_precise'].dt.year\n",
    "# df['month'] = df['timestamp_precise'].dt.month\n",
    "# df['date'] = df['timestamp_precise'].dt.day\n",
    "# df['hour'] = df['timestamp_precise'].dt.hour\n",
    "\n",
    "# # Rename the columns 'timestamp_precise': 'timestamp',\n",
    "# df = df.rename(columns={'cross_count': 'exit', 'reverse_count': 'entrance'})\n",
    "\n",
    "# # Rearrange the columns in the specified order\n",
    "# column_order = ['timestamp_precise', 'year', 'month', 'date', 'hour', 'plate_number', 'vehicle_type', 'exit', 'entrance']\n",
    "# df = df[column_order]\n",
    "\n",
    "# # Save the updated DataFrame to a new CSV file\n",
    "# df.to_csv(OUTPUT_FILE, index=False)\n"
   ]
  },
  {
   "cell_type": "code",
   "execution_count": null,
   "metadata": {},
   "outputs": [],
   "source": [
    "\n"
   ]
  },
  {
   "cell_type": "code",
   "execution_count": null,
   "metadata": {},
   "outputs": [],
   "source": []
  }
 ],
 "metadata": {
  "kernelspec": {
   "display_name": "ml_env",
   "language": "python",
   "name": "python3"
  },
  "language_info": {
   "codemirror_mode": {
    "name": "ipython",
    "version": 3
   },
   "file_extension": ".py",
   "mimetype": "text/x-python",
   "name": "python",
   "nbconvert_exporter": "python",
   "pygments_lexer": "ipython3",
   "version": "3.12.2"
  }
 },
 "nbformat": 4,
 "nbformat_minor": 2
}
