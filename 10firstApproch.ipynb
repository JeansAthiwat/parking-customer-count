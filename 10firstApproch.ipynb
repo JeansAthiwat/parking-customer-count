{
 "cells": [
  {
   "cell_type": "markdown",
   "metadata": {},
   "source": [
    "### Count by time in range timestamp+lifetime"
   ]
  },
  {
   "cell_type": "code",
   "execution_count": 1,
   "metadata": {},
   "outputs": [
    {
     "name": "stdout",
     "output_type": "stream",
     "text": [
      "/home/jeans/internship/parking-customer-count\n"
     ]
    }
   ],
   "source": [
    "import sys\n",
    "\n",
    "sys.path.append(\"/home/jeans/internship/parking-customer-count\")\n",
    "\n",
    "from countpassenger.Config import conf\n",
    "from countpassenger import Preprocess\n",
    "\n",
    "import countpassenger\n",
    "import pandas as pd\n",
    "import os.path as osp\n",
    "import os\n",
    "\n",
    "df_vehicle = pd.read_csv(\n",
    "    osp.join(conf.RESOURCES_RAW_DIR, \"mbk-tourist-vehicle-object-20240429.csv\")\n",
    ")\n",
    "df_cross = pd.read_csv(\n",
    "    osp.join(conf.RESOURCES_RAW_DIR, \"mbk-tourist-raw-cross-object-20240429.csv\")\n",
    ")\n",
    "df_reverse = pd.read_csv(\n",
    "    osp.join(conf.RESOURCES_RAW_DIR, \"mbk-tourist-raw-reverse-object-20240429.csv\")\n",
    ")"
   ]
  },
  {
   "cell_type": "code",
   "execution_count": 2,
   "metadata": {},
   "outputs": [
    {
     "data": {
      "text/plain": [
       "318     1714401037\n",
       "345     1714400436\n",
       "370     1714399912\n",
       "411     1714399112\n",
       "450     1714397625\n",
       "           ...    \n",
       "1488    1714360801\n",
       "1489    1714360875\n",
       "1490    1714360950\n",
       "1491    1714361025\n",
       "1580    1714356262\n",
       "Name: timestamp_unix, Length: 114, dtype: int64"
      ]
     },
     "execution_count": 2,
     "metadata": {},
     "output_type": "execute_result"
    }
   ],
   "source": [
    "\n",
    "df_vehicle = Preprocess.df_clean_vehicle(df_vehicle=df_vehicle)\n",
    "df_vehicle[\"timestamp_unix\"]"
   ]
  }
 ],
 "metadata": {
  "kernelspec": {
   "display_name": "ml_env",
   "language": "python",
   "name": "python3"
  },
  "language_info": {
   "codemirror_mode": {
    "name": "ipython",
    "version": 3
   },
   "file_extension": ".py",
   "mimetype": "text/x-python",
   "name": "python",
   "nbconvert_exporter": "python",
   "pygments_lexer": "ipython3",
   "version": "3.12.2"
  }
 },
 "nbformat": 4,
 "nbformat_minor": 2
}
